{
 "cells": [
  {
   "cell_type": "markdown",
   "id": "413c6743",
   "metadata": {},
   "source": [
    "Extract the subset of data that we actually need"
   ]
  },
  {
   "cell_type": "code",
   "execution_count": 72,
   "id": "216ac8b8",
   "metadata": {},
   "outputs": [],
   "source": [
    "import json\n",
    "from datetime import datetime\n",
    "import matplotlib.pyplot as plt\n",
    "import shutil\n",
    "import pandas as pd\n",
    "%matplotlib inline"
   ]
  },
  {
   "cell_type": "code",
   "execution_count": 3,
   "id": "e987df13",
   "metadata": {},
   "outputs": [],
   "source": [
    "with open('papers.json','r') as f:\n",
    "    data = json.load(f)"
   ]
  },
  {
   "cell_type": "code",
   "execution_count": 31,
   "id": "066ef6ff",
   "metadata": {},
   "outputs": [],
   "source": [
    "dates = []\n",
    "files = []\n",
    "for d in data:\n",
    "    pubdate = d['pubdate'].replace('Published on','').strip()\n",
    "    pubdate = datetime.strptime(pubdate,'%d %B %Y')\n",
    "    dates.append(pubdate)\n",
    "    for f in d['files']:\n",
    "        if 'working-paper' in f['url'] and '.pdf' in f['url']:\n",
    "            files.append(f['path'])  \n",
    "            \n",
    "mkdir "
   ]
  },
  {
   "cell_type": "code",
   "execution_count": 36,
   "id": "4b6cbf32",
   "metadata": {},
   "outputs": [],
   "source": [
    "from pathlib import Path"
   ]
  },
  {
   "cell_type": "code",
   "execution_count": 40,
   "id": "a53a4b91",
   "metadata": {},
   "outputs": [],
   "source": [
    "mkdir boe_working_papers/full"
   ]
  },
  {
   "cell_type": "code",
   "execution_count": 41,
   "id": "6c7dc9b5",
   "metadata": {},
   "outputs": [],
   "source": [
    "base = Path(\"~/dev/devday/data/\").expanduser()\n",
    "dbase = Path(\"boe_working_papers/\")\n",
    "for file in files:\n",
    "    src = base/file\n",
    "    dest = dbase/file\n",
    "    shutil.copy(src, dest)"
   ]
  },
  {
   "cell_type": "code",
   "execution_count": null,
   "id": "3ca5288a",
   "metadata": {},
   "outputs": [],
   "source": [
    "import shutil\n",
    " \n",
    "# Source path\n",
    "source = \"/home/User/Documents/file.txt\"\n",
    " \n",
    "# Destination path\n",
    "destination = \"/home/User/Documents/file.txt\"\n",
    " \n",
    "# Copy the content of\n",
    "# source to destination\n",
    " \n",
    "try:\n",
    "    shutil.copy(source, destination)\n",
    "    print(\"File copied successfully.\")"
   ]
  },
  {
   "cell_type": "code",
   "execution_count": 28,
   "id": "2ecf8822",
   "metadata": {},
   "outputs": [
    {
     "data": {
      "text/plain": [
       "[{'url': 'https://www.bankofengland.co.uk/-/media/boe/files/working-paper/1992/output-productivity-and-externalities-the-case-of-banking.pdf?la=en&hash=B74CB81C79B487AAEF8EECEFE47D1E105C6787AD',\n",
       "  'path': 'full/9c025c0444d6ee064f35f7e59f93d66b47488a9a',\n",
       "  'checksum': 'c78194edc1957c1215a396a28140ef35',\n",
       "  'status': 'uptodate'}]"
      ]
     },
     "execution_count": 28,
     "metadata": {},
     "output_type": "execute_result"
    }
   ],
   "source": [
    "d['files']"
   ]
  },
  {
   "cell_type": "code",
   "execution_count": 27,
   "id": "66737324",
   "metadata": {},
   "outputs": [
    {
     "data": {
      "text/plain": [
       "(array([ 36.,  43.,  56.,  84., 107.,  65.,  80., 133., 197., 182.]),\n",
       " array([ 8187. ,  9282.7, 10378.4, 11474.1, 12569.8, 13665.5, 14761.2,\n",
       "        15856.9, 16952.6, 18048.3, 19144. ]),\n",
       " <BarContainer object of 10 artists>)"
      ]
     },
     "execution_count": 27,
     "metadata": {},
     "output_type": "execute_result"
    },
    {
     "data": {
      "image/png": "[encoded data removed]",
      "text/plain": [
       "<Figure size 432x288 with 1 Axes>"
      ]
     },
     "metadata": {
      "needs_background": "light"
     },
     "output_type": "display_data"
    }
   ],
   "source": [
    "plt.hist(dates)"
   ]
  },
  {
   "cell_type": "code",
   "execution_count": 19,
   "id": "7af2676b",
   "metadata": {},
   "outputs": [
    {
     "data": {
      "text/plain": [
       "datetime.datetime(1992, 8, 1, 0, 0)"
      ]
     },
     "execution_count": 19,
     "metadata": {},
     "output_type": "execute_result"
    }
   ],
   "source": [
    "datetime.datetime.strptime(pubdate,'%d %B %Y')"
   ]
  },
  {
   "cell_type": "code",
   "execution_count": 48,
   "id": "d75f1331",
   "metadata": {},
   "outputs": [],
   "source": [
    "import re\n",
    "\n"
   ]
  },
  {
   "cell_type": "code",
   "execution_count": 85,
   "id": "7617427f",
   "metadata": {},
   "outputs": [],
   "source": [
    "with open('rdps.json','r') as f:\n",
    "    data = json.load(f)\n",
    "\n",
    "base_year = datetime.strptime('January 2000','%B %Y')\n",
    "\n",
    "def null_safe_strip(value):\n",
    "    if value is None:\n",
    "        return None\n",
    "    return value.strip()\n",
    "    \n",
    "\n",
    "rows = []\n",
    "for d in data:\n",
    "    if d['pubdate'] is not None:\n",
    "        pubdate = d['pubdate'].strip()\n",
    "        date = re.search('[a-z]{3,9} \\d{4}',pubdate)\n",
    "        if date:\n",
    "            s,e = date.span()\n",
    "            pubdate = datetime.strptime(pubdate[s-1:e],'%B %Y')\n",
    "            nfiles = len(d['files'])\n",
    "            filepath = None\n",
    "            if nfiles == 1:\n",
    "                filepath = (d['files'][0])['path']\n",
    "            \n",
    "            rows.append({\n",
    "                'rdp':d['rdp_number'],\n",
    "                'abstract':d['abstract'],\n",
    "                'date':pubdate,\n",
    "                'year':pubdate.year,\n",
    "                'authors':null_safe_strip(d['authors']),\n",
    "                'nfiles':nfiles,\n",
    "                'file':filepath,\n",
    "            })\n",
    "            \n",
    "df = pd.DataFrame(rows)"
   ]
  },
  {
   "cell_type": "code",
   "execution_count": 88,
   "id": "dcdaee8e",
   "metadata": {},
   "outputs": [],
   "source": [
    "df = df[df['year']>2016]"
   ]
  },
  {
   "cell_type": "code",
   "execution_count": 89,
   "id": "092c3b06",
   "metadata": {},
   "outputs": [
    {
     "data": {
      "text/html": [
       "<div>\n",
       "<style scoped>\n",
       "    .dataframe tbody tr th:only-of-type {\n",
       "        vertical-align: middle;\n",
       "    }\n",
       "\n",
       "    .dataframe tbody tr th {\n",
       "        vertical-align: top;\n",
       "    }\n",
       "\n",
       "    .dataframe thead th {\n",
       "        text-align: right;\n",
       "    }\n",
       "</style>\n",
       "<table border=\"1\" class=\"dataframe\">\n",
       "  <thead>\n",
       "    <tr style=\"text-align: right;\">\n",
       "      <th></th>\n",
       "      <th>rdp</th>\n",
       "      <th>abstract</th>\n",
       "      <th>date</th>\n",
       "      <th>year</th>\n",
       "      <th>authors</th>\n",
       "      <th>nfiles</th>\n",
       "      <th>file</th>\n",
       "    </tr>\n",
       "  </thead>\n",
       "  <tbody>\n",
       "    <tr>\n",
       "      <th>15</th>\n",
       "      <td>Research Discussion Paper – RDP 2021-01</td>\n",
       "      <td>[\\n\\t\\t\\t\\t\\t\\t\\t\\tThis paper studies the role...</td>\n",
       "      <td>2021-01-01</td>\n",
       "      <td>2021</td>\n",
       "      <td>Nicholas Garvin, David W Hughes and José-Luis ...</td>\n",
       "      <td>1</td>\n",
       "      <td>full/9c51c90c73ea8c36aadae9509db32579b59543c4.pdf</td>\n",
       "    </tr>\n",
       "    <tr>\n",
       "      <th>16</th>\n",
       "      <td>Research Discussion Paper – RDP 2021-01</td>\n",
       "      <td>[\\r\\n\\t\\t\\t\\t\\t\\t\\t\\tDetails of the supplement...</td>\n",
       "      <td>2021-01-01</td>\n",
       "      <td>2021</td>\n",
       "      <td>Nicholas Garvin, David W Hughes and José-Luis ...</td>\n",
       "      <td>0</td>\n",
       "      <td>None</td>\n",
       "    </tr>\n",
       "    <tr>\n",
       "      <th>17</th>\n",
       "      <td>RDP 2021-01: The Role of Collateral in Borrowing</td>\n",
       "      <td>[]</td>\n",
       "      <td>2021-01-01</td>\n",
       "      <td>2021</td>\n",
       "      <td>Nicholas Garvin, David W Hughes and José-Luis ...</td>\n",
       "      <td>0</td>\n",
       "      <td>None</td>\n",
       "    </tr>\n",
       "    <tr>\n",
       "      <th>18</th>\n",
       "      <td>Research Discussion Paper – RDP 2021-01</td>\n",
       "      <td>[]</td>\n",
       "      <td>2021-01-01</td>\n",
       "      <td>2021</td>\n",
       "      <td>None</td>\n",
       "      <td>1</td>\n",
       "      <td>full/9c51c90c73ea8c36aadae9509db32579b59543c4.pdf</td>\n",
       "    </tr>\n",
       "    <tr>\n",
       "      <th>19</th>\n",
       "      <td>Research Discussion Paper – RDP 2021-01</td>\n",
       "      <td>[]</td>\n",
       "      <td>2021-01-01</td>\n",
       "      <td>2021</td>\n",
       "      <td>Nicholas Garvin, David W Hughes and José-Luis ...</td>\n",
       "      <td>1</td>\n",
       "      <td>full/9c51c90c73ea8c36aadae9509db32579b59543c4.pdf</td>\n",
       "    </tr>\n",
       "  </tbody>\n",
       "</table>\n",
       "</div>"
      ],
      "text/plain": [
       "                                                 rdp  \\\n",
       "15           Research Discussion Paper – RDP 2021-01   \n",
       "16           Research Discussion Paper – RDP 2021-01   \n",
       "17  RDP 2021-01: The Role of Collateral in Borrowing   \n",
       "18           Research Discussion Paper – RDP 2021-01   \n",
       "19           Research Discussion Paper – RDP 2021-01   \n",
       "\n",
       "                                             abstract       date  year  \\\n",
       "15  [\\n\\t\\t\\t\\t\\t\\t\\t\\tThis paper studies the role... 2021-01-01  2021   \n",
       "16  [\\r\\n\\t\\t\\t\\t\\t\\t\\t\\tDetails of the supplement... 2021-01-01  2021   \n",
       "17                                                 [] 2021-01-01  2021   \n",
       "18                                                 [] 2021-01-01  2021   \n",
       "19                                                 [] 2021-01-01  2021   \n",
       "\n",
       "                                              authors  nfiles  \\\n",
       "15  Nicholas Garvin, David W Hughes and José-Luis ...       1   \n",
       "16  Nicholas Garvin, David W Hughes and José-Luis ...       0   \n",
       "17  Nicholas Garvin, David W Hughes and José-Luis ...       0   \n",
       "18                                               None       1   \n",
       "19  Nicholas Garvin, David W Hughes and José-Luis ...       1   \n",
       "\n",
       "                                                 file  \n",
       "15  full/9c51c90c73ea8c36aadae9509db32579b59543c4.pdf  \n",
       "16                                               None  \n",
       "17                                               None  \n",
       "18  full/9c51c90c73ea8c36aadae9509db32579b59543c4.pdf  \n",
       "19  full/9c51c90c73ea8c36aadae9509db32579b59543c4.pdf  "
      ]
     },
     "execution_count": 89,
     "metadata": {},
     "output_type": "execute_result"
    }
   ],
   "source": [
    "df.head()"
   ]
  },
  {
   "cell_type": "code",
   "execution_count": 91,
   "id": "2c844969",
   "metadata": {},
   "outputs": [
    {
     "data": {
      "text/plain": [
       "156.0"
      ]
     },
     "execution_count": 91,
     "metadata": {},
     "output_type": "execute_result"
    }
   ],
   "source": [
    "6*52/2"
   ]
  },
  {
   "cell_type": "code",
   "execution_count": 92,
   "id": "eafda05e",
   "metadata": {},
   "outputs": [
    {
     "name": "stdout",
     "output_type": "stream",
     "text": [
      "Object `urlparse` not found.\n"
     ]
    }
   ],
   "source": [
    "urlparse?"
   ]
  },
  {
   "cell_type": "code",
   "execution_count": null,
   "id": "342bd00a",
   "metadata": {},
   "outputs": [],
   "source": []
  }
 ],
 "metadata": {
  "kernelspec": {
   "display_name": "Python 3 (ipykernel)",
   "language": "python",
   "name": "python3"
  },
  "language_info": {
   "codemirror_mode": {
    "name": "ipython",
    "version": 3
   },
   "file_extension": ".py",
   "mimetype": "text/x-python",
   "name": "python",
   "nbconvert_exporter": "python",
   "pygments_lexer": "ipython3",
   "version": "3.9.12"
  }
 },
 "nbformat": 4,
 "nbformat_minor": 5
}
